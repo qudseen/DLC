{
  "nbformat": 4,
  "nbformat_minor": 0,
  "metadata": {
    "colab": {
      "provenance": [],
      "gpuType": "T4",
      "mount_file_id": "1vzAsSW0Hx0Qmecft8p70I6Bh-gCwDrxn",
      "authorship_tag": "ABX9TyMcZ/KzZTY1Enz7RIBmmT82",
      "include_colab_link": true
    },
    "kernelspec": {
      "name": "python3",
      "display_name": "Python 3"
    },
    "language_info": {
      "name": "python"
    },
    "accelerator": "GPU"
  },
  "cells": [
    {
      "cell_type": "markdown",
      "metadata": {
        "id": "view-in-github",
        "colab_type": "text"
      },
      "source": [
        "<a href=\"https://colab.research.google.com/github/qudseen/DLC/blob/main/Cnn.ipynb\" target=\"_parent\"><img src=\"https://colab.research.google.com/assets/colab-badge.svg\" alt=\"Open In Colab\"/></a>"
      ]
    },
    {
      "cell_type": "code",
      "execution_count": 1,
      "metadata": {
        "id": "MXSqiWM1kzm-"
      },
      "outputs": [],
      "source": [
        "import os\n",
        "import numpy as np\n",
        "import pandas as pd\n",
        "import pathlib\n",
        "import imageio"
      ]
    },
    {
      "cell_type": "code",
      "source": [
        "#File paths\n",
        "base_dir = '/content/drive/My Drive/Dataset/'\n",
        "\n",
        "train = base_dir+'Train'\n",
        "train_covid_dir = base_dir+'Train/Covid/'\n",
        "train_normal_dir=base_dir+'Train/Normal/'\n",
        "\n",
        "val = base_dir+'Val'\n",
        "val_normal_dir= base_dir+'Val/Normal/'\n",
        "val_covid_dir= base_dir+'Val/Covid/'\n",
        "\n",
        "train_cv = [train_covid_dir+\"{}\".format(i) for i in os.listdir(train_covid_dir) ]\n",
        "train_normal = [train_normal_dir+\"{}\".format(i) for i in os.listdir(train_normal_dir) ]\n",
        "\n",
        "val_cv= [val_covid_dir+\"{}\".format(i) for i in os.listdir(val_covid_dir) ]\n",
        "val_normal= [val_normal_dir+\"{}\".format(i) for i in os.listdir(val_normal_dir) ]\n",
        "\n"
      ],
      "metadata": {
        "id": "BbVUZNRSlJD9"
      },
      "execution_count": 56,
      "outputs": []
    },
    {
      "cell_type": "code",
      "source": [
        "print (\"Total Images:\",len(train_cv+train_normal+val_cv+val_normal))\n",
        "print (\"Total Covid images:\",len(train_cv+val_cv))\n",
        "print (\"Total Nomral images:\",len(train_normal+val_normal))"
      ],
      "metadata": {
        "colab": {
          "base_uri": "https://localhost:8080/"
        },
        "id": "Z5qzuUjYsT0n",
        "outputId": "7f170e6e-48bd-47aa-f559-af6979c04fae"
      },
      "execution_count": 3,
      "outputs": [
        {
          "output_type": "stream",
          "name": "stdout",
          "text": [
            "Total Images: 334\n",
            "Total Covid images: 160\n",
            "Total Nomral images: 174\n"
          ]
        }
      ]
    },
    {
      "cell_type": "code",
      "source": [
        "# Split as : roughly 80% train and 20% Val\n",
        "cv = train_cv+val_cv\n",
        "normal = train_normal+val_normal\n",
        "train_images = cv[:128]+normal[:139]\n",
        "val_images = cv[128:]+normal[139:]\n"
      ],
      "metadata": {
        "id": "Fon3VXCDspX4"
      },
      "execution_count": 54,
      "outputs": []
    },
    {
      "cell_type": "code",
      "source": [
        "print(\"Total Train Images %s containing %s covid and %s normal images\"\n",
        "      % (len(train_images),len(cv[:128]),len(normal[:139])))\n",
        "print(\"Total validation Images %s containing %s covid and %s normal images\"\n",
        "      % (len(val_images),len(cv[128:]),len(normal[139:])))"
      ],
      "metadata": {
        "colab": {
          "base_uri": "https://localhost:8080/"
        },
        "id": "LO0WQx7suwDv",
        "outputId": "67fbd89f-f495-40e9-f64e-1050378c69bd"
      },
      "execution_count": 6,
      "outputs": [
        {
          "output_type": "stream",
          "name": "stdout",
          "text": [
            "Total Train Images 267 containing 128 covid and 139 normal images\n",
            "Total validation Images 67 containing 32 covid and 35 normal images\n"
          ]
        }
      ]
    },
    {
      "cell_type": "code",
      "source": [
        "import random\n",
        "random.shuffle(train_images)\n",
        "random.shuffle(val_images)"
      ],
      "metadata": {
        "id": "9x7BOAQLvKOO"
      },
      "execution_count": 7,
      "outputs": []
    },
    {
      "cell_type": "code",
      "source": [
        "print(train_images[0])"
      ],
      "metadata": {
        "colab": {
          "base_uri": "https://localhost:8080/"
        },
        "id": "nkfhuTeSv80v",
        "outputId": "c465d903-f2c0-4a02-9b05-5e95a6fe454b"
      },
      "execution_count": 8,
      "outputs": [
        {
          "output_type": "stream",
          "name": "stdout",
          "text": [
            "/content/drive/My Drive/Dataset/Train/Covid/4e43e48d52c9e2d4c6c1fb9bc1544f_jumbo.jpeg\n"
          ]
        }
      ]
    },
    {
      "cell_type": "code",
      "source": [
        "#Labelling and storing in 3D array\n",
        "# import cv2\n",
        "# img_size = 224\n",
        "\n",
        "# def preprocess_image(image_list):\n",
        "\n",
        "#     X = [] # images\n",
        "#     y = [] #labels (0 for Normal or 1 for covid)\n",
        "#     count=0\n",
        "\n",
        "#     for image in image_list:\n",
        "\n",
        "#         try:\n",
        "\n",
        "#             img = cv2.imread(image,cv2.IMREAD_GRAYSCALE)\n",
        "\n",
        "#             img=cv2.resize(img,(img_size,img_size),interpolation=cv2.INTER_CUBIC)\n",
        "\n",
        "#             #convert image to 2D to 3D\n",
        "#             img = np.dstack([img, img, img])\n",
        "\n",
        "#             # Normalalize Image\n",
        "#             img = img.astype(np.float32)/255.\n",
        "\n",
        "#             count=count+1\n",
        "\n",
        "#             X.append(img)\n",
        "\n",
        "\n",
        "#         except:\n",
        "#             continue\n",
        "#         if 'NORMAL' in image:\n",
        "#             y.append(0)\n",
        "\n",
        "#         elif 'IM' in image:\n",
        "#             y.append(0)\n",
        "\n",
        "#         else:\n",
        "#             y.append(1)\n",
        "\n",
        "\n",
        "#     return X, y"
      ],
      "metadata": {
        "id": "CRepcFWz0W74"
      },
      "execution_count": 9,
      "outputs": []
    },
    {
      "cell_type": "code",
      "source": [
        "# X, y = preprocess_image(train_images) #for training data"
      ],
      "metadata": {
        "id": "BaZW9AdC1UCH"
      },
      "execution_count": 10,
      "outputs": []
    },
    {
      "cell_type": "code",
      "source": [
        "# P, q = preprocess_image(val_images)  #for validation data"
      ],
      "metadata": {
        "id": "SIJgHKev1Xae"
      },
      "execution_count": 11,
      "outputs": []
    },
    {
      "cell_type": "code",
      "source": [
        "# # Check all the images getting labels or not\n",
        "# arr=y\n",
        "# uniqueValues, occurCount = np.unique(arr, return_counts=True)\n",
        "\n",
        "# print(\"Unique Values : \" , uniqueValues)\n",
        "# print(\"Occurrence Count : \", occurCount)\n",
        "# arr=q\n",
        "# uniqueValues, occurCount = np.unique(arr, return_counts=True)\n",
        "\n",
        "# print(\"Unique Values : \" , uniqueValues)\n",
        "# print(\"Occurrence Count : \", occurCount)\n"
      ],
      "metadata": {
        "colab": {
          "base_uri": "https://localhost:8080/"
        },
        "id": "5P1BcimFmdiW",
        "outputId": "81fec117-1580-4629-8cff-06f54934ff02"
      },
      "execution_count": 47,
      "outputs": [
        {
          "output_type": "stream",
          "name": "stdout",
          "text": [
            "Unique Values :  [0 1]\n",
            "Occurrence Count :  [139 128]\n",
            "Unique Values :  [0 1]\n",
            "Occurrence Count :  [35 32]\n"
          ]
        }
      ]
    },
    {
      "cell_type": "code",
      "source": [
        "import tensorflow as tf\n",
        "from keras.preprocessing.image import ImageDataGenerator\n",
        "from tensorflow.keras import applications\n",
        "\n"
      ],
      "metadata": {
        "id": "ByFjxvfRpBHQ"
      },
      "execution_count": 52,
      "outputs": []
    },
    {
      "cell_type": "code",
      "source": [
        "gen = ImageDataGenerator(\n",
        "    rescale=1./255.,\n",
        "    horizontal_flip = True,\n",
        "    vertical_flip = True\n",
        ")"
      ],
      "metadata": {
        "id": "dB40kkw2pT-0"
      },
      "execution_count": 137,
      "outputs": []
    },
    {
      "cell_type": "code",
      "source": [
        "train_generator = gen.flow_from_directory(\n",
        "    directory = train,\n",
        "    color_mode=\"rgb\",\n",
        "    target_size = (224,224), # image height , image width\n",
        "    class_mode=\"binary\",\n",
        "    batch_size=8,\n",
        "    shuffle=True\n",
        ")"
      ],
      "metadata": {
        "colab": {
          "base_uri": "https://localhost:8080/"
        },
        "id": "sm9P-iVlpWSH",
        "outputId": "b962798c-fa4c-4ff9-d2fb-b78290a099df"
      },
      "execution_count": 138,
      "outputs": [
        {
          "output_type": "stream",
          "name": "stdout",
          "text": [
            "Found 274 images belonging to 2 classes.\n"
          ]
        }
      ]
    },
    {
      "cell_type": "code",
      "source": [
        "validation_generator = gen.flow_from_directory(\n",
        "    directory = val,\n",
        "    color_mode=\"rgb\",\n",
        "    target_size = (224,224), # image height , image width\n",
        "    class_mode=\"binary\",\n",
        "    batch_size=8,\n",
        "    shuffle=True\n",
        ")"
      ],
      "metadata": {
        "colab": {
          "base_uri": "https://localhost:8080/"
        },
        "id": "5xEhXco4q2IW",
        "outputId": "c1cb5b0a-1601-426f-95af-c2dde85826e2"
      },
      "execution_count": 139,
      "outputs": [
        {
          "output_type": "stream",
          "name": "stdout",
          "text": [
            "Found 60 images belonging to 2 classes.\n"
          ]
        }
      ]
    },
    {
      "cell_type": "code",
      "source": [
        "x,y = next(train_generator)\n",
        "x.shape"
      ],
      "metadata": {
        "colab": {
          "base_uri": "https://localhost:8080/"
        },
        "id": "ov5MsurSrBx9",
        "outputId": "d97a7fc5-a3e0-41ed-df24-d2c51845d325"
      },
      "execution_count": 91,
      "outputs": [
        {
          "output_type": "execute_result",
          "data": {
            "text/plain": [
              "(8, 224, 224, 3)"
            ]
          },
          "metadata": {},
          "execution_count": 91
        }
      ]
    },
    {
      "cell_type": "code",
      "source": [
        "a = train_generator.class_indices\n",
        "class_names = list(a.keys())"
      ],
      "metadata": {
        "id": "HiTfrQzirRKv"
      },
      "execution_count": 135,
      "outputs": []
    },
    {
      "cell_type": "code",
      "source": [
        "from sklearn.utils import resample"
      ],
      "metadata": {
        "id": "8KZLKmix4-LF"
      },
      "execution_count": 125,
      "outputs": []
    },
    {
      "cell_type": "code",
      "source": [
        "x_majority = x[y == 0]\n",
        "x_minority = x[y == 1]\n",
        "n_samples_to_remove=14\n",
        "x_majority_undersampled = resample(x_majority, n_samples=n_samples_to_remove, random_state=42)"
      ],
      "metadata": {
        "id": "ZCR_TMig5IlE"
      },
      "execution_count": 180,
      "outputs": []
    },
    {
      "cell_type": "code",
      "source": [
        "x_balanced = np.vstack((x_majority_undersampled, x_minority))\n",
        "y_balanced = np.hstack((np.zeros(len(x_majority_undersampled)), np.ones(len(x_minority))))"
      ],
      "metadata": {
        "id": "c71zJq1X5wwg"
      },
      "execution_count": 181,
      "outputs": []
    },
    {
      "cell_type": "code",
      "source": [
        "# X1 = np.array(X)\n",
        "# y1 = np.array(y)\n",
        "# P1 = np.array(P)\n",
        "# q1= np.array(q)"
      ],
      "metadata": {
        "id": "Xt6JPB9AAmGc"
      },
      "execution_count": 67,
      "outputs": []
    },
    {
      "cell_type": "code",
      "source": [
        "pip install imbalanced-learn"
      ],
      "metadata": {
        "colab": {
          "base_uri": "https://localhost:8080/"
        },
        "id": "m5EvKePz9Jbs",
        "outputId": "1c363ca2-b6bb-49ed-aa8e-9886c44f7238"
      },
      "execution_count": 146,
      "outputs": [
        {
          "output_type": "stream",
          "name": "stdout",
          "text": [
            "Requirement already satisfied: imbalanced-learn in /usr/local/lib/python3.10/dist-packages (0.10.1)\n",
            "Requirement already satisfied: numpy>=1.17.3 in /usr/local/lib/python3.10/dist-packages (from imbalanced-learn) (1.22.4)\n",
            "Requirement already satisfied: scipy>=1.3.2 in /usr/local/lib/python3.10/dist-packages (from imbalanced-learn) (1.10.1)\n",
            "Requirement already satisfied: scikit-learn>=1.0.2 in /usr/local/lib/python3.10/dist-packages (from imbalanced-learn) (1.2.2)\n",
            "Requirement already satisfied: joblib>=1.1.1 in /usr/local/lib/python3.10/dist-packages (from imbalanced-learn) (1.3.1)\n",
            "Requirement already satisfied: threadpoolctl>=2.0.0 in /usr/local/lib/python3.10/dist-packages (from imbalanced-learn) (3.2.0)\n"
          ]
        }
      ]
    },
    {
      "cell_type": "code",
      "source": [
        "from imblearn.over_sampling import SMOTE"
      ],
      "metadata": {
        "id": "2-gwxIz39Lrl"
      },
      "execution_count": 147,
      "outputs": []
    },
    {
      "cell_type": "code",
      "source": [
        "# smote = SMOTE(sampling_strategy='auto',k_neighbors= 2, random_state=42)\n",
        "# x_flattened=x.reshape(8,-1)\n",
        "# x_resampled, y_resampled = smote.fit_resample(x_flattened, y)"
      ],
      "metadata": {
        "id": "95Ik-hnj9Rc8"
      },
      "execution_count": 163,
      "outputs": []
    },
    {
      "cell_type": "code",
      "source": [
        "# x_resampled = x_resampled.reshape(x_resampled.shape[0], 224, 224, 3)"
      ],
      "metadata": {
        "id": "zHQSsuh49wPW"
      },
      "execution_count": 164,
      "outputs": []
    },
    {
      "cell_type": "code",
      "source": [
        "# from sklearn.utils import class_weight\n",
        "# class_weights = class_weight.compute_class_weight(class_weight='balanced',\n",
        "#                                                   classes=np.unique(y),\n",
        "#                                                   y=y)\n",
        "# class_weights = dict(enumerate(class_weights))\n",
        "# print(class_weights)"
      ],
      "metadata": {
        "colab": {
          "base_uri": "https://localhost:8080/"
        },
        "id": "dDTl0kt5gv8V",
        "outputId": "802afdc9-67a3-401c-d0ad-bb617867669a"
      },
      "execution_count": 159,
      "outputs": [
        {
          "output_type": "stream",
          "name": "stdout",
          "text": [
            "{0: 0.8, 1: 1.3333333333333333}\n"
          ]
        }
      ]
    },
    {
      "cell_type": "code",
      "source": [
        "import keras\n",
        "from keras.layers import *\n",
        "from keras.models import *\n",
        "from keras.preprocessing import image"
      ],
      "metadata": {
        "id": "2Qz5UuOk3TJa"
      },
      "execution_count": 119,
      "outputs": []
    },
    {
      "cell_type": "code",
      "source": [
        "#Model architecture\n",
        "model = Sequential()\n",
        "model.add(Conv2D(32, kernel_size=(3, 3), activation='relu', input_shape=(224,224,3)))\n",
        "model.add(Conv2D(64, (3, 3), activation='relu'))\n",
        "model.add(MaxPool2D(pool_size=(2, 2)))\n",
        "model.add(Dropout(0.25))\n",
        "model.add(Conv2D(128, (3, 3), activation='relu'))\n",
        "model.add(MaxPool2D(pool_size=(2, 2)))\n",
        "model.add(Dropout(0.25))\n",
        "model.add(Flatten())\n",
        "model.add(Dense(256, activation='relu'))\n",
        "model.add(Dropout(0.5))\n",
        "model.add(Dense(1, activation='sigmoid'))\n"
      ],
      "metadata": {
        "id": "701yr_ji3XbS"
      },
      "execution_count": 120,
      "outputs": []
    },
    {
      "cell_type": "markdown",
      "source": [],
      "metadata": {
        "id": "w0-uFtRFitPD"
      }
    },
    {
      "cell_type": "code",
      "source": [
        "# compiling model\n",
        "model.compile(loss=keras.losses.binary_crossentropy , optimizer=\"adam\" , metrics=[\"accuracy\" ])"
      ],
      "metadata": {
        "id": "eXA35a9f5ZgT"
      },
      "execution_count": 121,
      "outputs": []
    },
    {
      "cell_type": "code",
      "source": [
        "#Training model\n",
        "hist = model.fit(x_balanced,y_balanced,\n",
        "          batch_size=20,\n",
        "          epochs=10,\n",
        "          verbose=1,\n",
        "          validation_data=validation_generator )"
      ],
      "metadata": {
        "colab": {
          "base_uri": "https://localhost:8080/"
        },
        "id": "hhQLF2Re6xCK",
        "outputId": "85240769-1ed3-4a98-9ca0-78d9a5022f97"
      },
      "execution_count": 182,
      "outputs": [
        {
          "output_type": "stream",
          "name": "stdout",
          "text": [
            "Epoch 1/10\n",
            "1/1 [==============================] - 3s 3s/step - loss: 1.2157e-05 - accuracy: 1.0000 - val_loss: 0.7508 - val_accuracy: 0.9167\n",
            "Epoch 2/10\n",
            "1/1 [==============================] - 2s 2s/step - loss: 3.7053e-04 - accuracy: 1.0000 - val_loss: 0.5757 - val_accuracy: 0.9333\n",
            "Epoch 3/10\n",
            "1/1 [==============================] - 2s 2s/step - loss: 4.3922e-05 - accuracy: 1.0000 - val_loss: 0.5762 - val_accuracy: 0.9333\n",
            "Epoch 4/10\n",
            "1/1 [==============================] - 2s 2s/step - loss: 7.1473e-05 - accuracy: 1.0000 - val_loss: 0.4524 - val_accuracy: 0.9500\n",
            "Epoch 5/10\n",
            "1/1 [==============================] - 3s 3s/step - loss: 5.4166e-05 - accuracy: 1.0000 - val_loss: 0.4020 - val_accuracy: 0.9500\n",
            "Epoch 6/10\n",
            "1/1 [==============================] - 3s 3s/step - loss: 2.4021e-05 - accuracy: 1.0000 - val_loss: 0.2329 - val_accuracy: 0.9667\n",
            "Epoch 7/10\n",
            "1/1 [==============================] - 2s 2s/step - loss: 5.6588e-05 - accuracy: 1.0000 - val_loss: 0.6535 - val_accuracy: 0.9333\n",
            "Epoch 8/10\n",
            "1/1 [==============================] - 2s 2s/step - loss: 7.6381e-05 - accuracy: 1.0000 - val_loss: 0.4381 - val_accuracy: 0.9500\n",
            "Epoch 9/10\n",
            "1/1 [==============================] - 2s 2s/step - loss: 2.3728e-05 - accuracy: 1.0000 - val_loss: 0.6620 - val_accuracy: 0.9333\n",
            "Epoch 10/10\n",
            "1/1 [==============================] - 2s 2s/step - loss: 8.3040e-05 - accuracy: 1.0000 - val_loss: 0.6077 - val_accuracy: 0.9333\n"
          ]
        }
      ]
    },
    {
      "cell_type": "code",
      "source": [
        "from matplotlib import pyplot as plt"
      ],
      "metadata": {
        "id": "_B8wztigCHjS"
      },
      "execution_count": 108,
      "outputs": []
    },
    {
      "cell_type": "code",
      "source": [
        "#Train and Val curve\n",
        "acc = hist.history['accuracy']\n",
        "val_acc = hist.history['val_accuracy']\n",
        "loss = hist.history['loss']\n",
        "val_loss = hist.history['val_loss']\n",
        "\n",
        "epochs = range(1, len(acc) + 1)\n",
        "\n",
        "#Train and validation accuracy\n",
        "plt.plot(epochs, acc, 'b', label='Training accurarcy')\n",
        "plt.plot(epochs, val_acc, 'r', label='Validation accurarcy')\n",
        "plt.title('Training and Validation accurarcy')\n",
        "plt.legend()\n",
        "\n",
        "plt.figure()\n",
        "#Train and validation loss\n",
        "plt.plot(epochs, loss, 'b', label='Training loss')\n",
        "plt.plot(epochs, val_loss, 'r', label='Validation loss')\n",
        "plt.title('Training and Validation loss')\n",
        "plt.legend()\n",
        "\n",
        "plt.show()"
      ],
      "metadata": {
        "colab": {
          "base_uri": "https://localhost:8080/",
          "height": 887
        },
        "id": "8nKOykk28Vmj",
        "outputId": "8ba2452a-7187-4070-b4cd-75c11b09c28c"
      },
      "execution_count": 183,
      "outputs": [
        {
          "output_type": "display_data",
          "data": {
            "text/plain": [
              "<Figure size 640x480 with 1 Axes>"
            ],
            "image/png": "[encoded data removed]"
          },
          "metadata": {}
        },
        {
          "output_type": "display_data",
          "data": {
            "text/plain": [
              "<Figure size 640x480 with 1 Axes>"
            ],
            "image/png": "[encoded data removed]"
          },
          "metadata": {}
        }
      ]
    },
    {
      "cell_type": "code",
      "source": [
        "import sklearn"
      ],
      "metadata": {
        "id": "95NrVNcc8SJU"
      },
      "execution_count": 110,
      "outputs": []
    },
    {
      "cell_type": "code",
      "source": [
        "p, q = next(validation_generator)"
      ],
      "metadata": {
        "id": "YJxuJ2j8t3MN"
      },
      "execution_count": 184,
      "outputs": []
    },
    {
      "cell_type": "code",
      "source": [
        "p.shape"
      ],
      "metadata": {
        "colab": {
          "base_uri": "https://localhost:8080/"
        },
        "id": "M2_48aqiuEac",
        "outputId": "82425959-f151-44c5-b91c-d5fc5049051f"
      },
      "execution_count": 112,
      "outputs": [
        {
          "output_type": "execute_result",
          "data": {
            "text/plain": [
              "(8, 224, 224, 3)"
            ]
          },
          "metadata": {},
          "execution_count": 112
        }
      ]
    },
    {
      "cell_type": "code",
      "source": [
        "q.shape"
      ],
      "metadata": {
        "colab": {
          "base_uri": "https://localhost:8080/"
        },
        "id": "yQPDlRfauJ4M",
        "outputId": "ca977cc2-ba19-4c39-b07c-4708cc31b062"
      },
      "execution_count": 80,
      "outputs": [
        {
          "output_type": "execute_result",
          "data": {
            "text/plain": [
              "(8,)"
            ]
          },
          "metadata": {},
          "execution_count": 80
        }
      ]
    },
    {
      "cell_type": "code",
      "source": [
        "from sklearn.metrics import classification_report\n",
        "#Classification Report\n",
        "y_pred= model.predict(x_balanced)\n",
        "y_pred_classes = [np.argmax(element) for element in y_pred]\n",
        "print(classification_report(y_balanced,y_pred_classes))"
      ],
      "metadata": {
        "colab": {
          "base_uri": "https://localhost:8080/"
        },
        "id": "b1a5FIp19y7q",
        "outputId": "c963f7bb-cadb-47d9-8510-99844c54f345"
      },
      "execution_count": 188,
      "outputs": [
        {
          "output_type": "stream",
          "name": "stdout",
          "text": [
            "1/1 [==============================] - 0s 26ms/step\n",
            "              precision    recall  f1-score   support\n",
            "\n",
            "         0.0       0.82      1.00      0.90        14\n",
            "         1.0       0.00      0.00      0.00         3\n",
            "\n",
            "    accuracy                           0.82        17\n",
            "   macro avg       0.41      0.50      0.45        17\n",
            "weighted avg       0.68      0.82      0.74        17\n",
            "\n"
          ]
        },
        {
          "output_type": "stream",
          "name": "stderr",
          "text": [
            "/usr/local/lib/python3.10/dist-packages/sklearn/metrics/_classification.py:1344: UndefinedMetricWarning: Precision and F-score are ill-defined and being set to 0.0 in labels with no predicted samples. Use `zero_division` parameter to control this behavior.\n",
            "  _warn_prf(average, modifier, msg_start, len(result))\n",
            "/usr/local/lib/python3.10/dist-packages/sklearn/metrics/_classification.py:1344: UndefinedMetricWarning: Precision and F-score are ill-defined and being set to 0.0 in labels with no predicted samples. Use `zero_division` parameter to control this behavior.\n",
            "  _warn_prf(average, modifier, msg_start, len(result))\n",
            "/usr/local/lib/python3.10/dist-packages/sklearn/metrics/_classification.py:1344: UndefinedMetricWarning: Precision and F-score are ill-defined and being set to 0.0 in labels with no predicted samples. Use `zero_division` parameter to control this behavior.\n",
            "  _warn_prf(average, modifier, msg_start, len(result))\n"
          ]
        }
      ]
    }
  ]
}